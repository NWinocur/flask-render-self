{
 "cells": [
  {
   "cell_type": "markdown",
   "id": "e8ce1d5b",
   "metadata": {},
   "source": [
    "#Extrovert vs. Introvert Behavior Data"
   ]
  },
  {
   "cell_type": "markdown",
   "id": "fca8f07d",
   "metadata": {},
   "source": [
    "## Problem statement"
   ]
  },
  {
   "cell_type": "markdown",
   "id": "2825166b",
   "metadata": {},
   "source": [
    "## Data collection"
   ]
  },
  {
   "cell_type": "markdown",
   "id": "73ca766a",
   "metadata": {},
   "source": [
    "## Exploration and data cleaning"
   ]
  },
  {
   "cell_type": "markdown",
   "id": "d42be080",
   "metadata": {},
   "source": [
    "## Analysis of univariate variables"
   ]
  },
  {
   "cell_type": "markdown",
   "id": "1f8472b2",
   "metadata": {},
   "source": [
    "### categorical variables"
   ]
  },
  {
   "cell_type": "markdown",
   "id": "5da5cb50",
   "metadata": {},
   "source": [
    "### numeric variables"
   ]
  },
  {
   "cell_type": "markdown",
   "id": "60e396a4",
   "metadata": {},
   "source": [
    "## Analysis of multivariate variables"
   ]
  },
  {
   "cell_type": "markdown",
   "id": "9cb2d3d3",
   "metadata": {},
   "source": [
    "## Numerical-numerical analysis\n"
   ]
  },
  {
   "cell_type": "markdown",
   "id": "4c2fd36f",
   "metadata": {},
   "source": [
    "### categorical-categorical analysis\n"
   ]
  },
  {
   "cell_type": "markdown",
   "id": "05909e31",
   "metadata": {},
   "source": [
    "#### TODO: deterine whether data needs this section\n"
   ]
  },
  {
   "cell_type": "markdown",
   "id": "83905fc0",
   "metadata": {},
   "source": [
    "### Correlation analysis\n"
   ]
  },
  {
   "cell_type": "markdown",
   "id": "5557e346",
   "metadata": {},
   "source": [
    "#### skipped; covered by heatmap in a cell not much further below\n"
   ]
  },
  {
   "cell_type": "markdown",
   "id": "7adafda7",
   "metadata": {},
   "source": [
    "#### numerical-categorical analysis\n"
   ]
  },
  {
   "cell_type": "markdown",
   "id": "2451a2ad",
   "metadata": {},
   "source": [
    "## Building decision tree mcdel\n"
   ]
  },
  {
   "cell_type": "markdown",
   "id": "a1a7294c",
   "metadata": {},
   "source": [
    "### Splitting training vs test data\n"
   ]
  },
  {
   "cell_type": "markdown",
   "id": "ce99e41c",
   "metadata": {},
   "source": [
    "### Scaling\n"
   ]
  },
  {
   "cell_type": "markdown",
   "id": "1a8a9637",
   "metadata": {},
   "source": [
    "### feature selection for selecting most-relevant features to use for building ML model\n"
   ]
  },
  {
   "cell_type": "markdown",
   "id": "b09a7cb4",
   "metadata": {},
   "source": [
    "### Accuracy score without hyperparameter optimization\n"
   ]
  },
  {
   "cell_type": "markdown",
   "id": "2d356172",
   "metadata": {},
   "source": [
    "## Tuning\n"
   ]
  },
  {
   "cell_type": "markdown",
   "id": "eae03a43",
   "metadata": {},
   "source": [
    "### Hyperparameter optimizing"
   ]
  },
  {
   "cell_type": "markdown",
   "id": "db966476",
   "metadata": {},
   "source": [
    "#### Grid search\n"
   ]
  },
  {
   "cell_type": "markdown",
   "id": "3147955d",
   "metadata": {},
   "source": [
    "#### Random search hyperparameter optimization-hunting\n"
   ]
  },
  {
   "cell_type": "markdown",
   "id": "f7097427",
   "metadata": {},
   "source": [
    "## Saving the model"
   ]
  }
 ],
 "metadata": {
  "language_info": {
   "name": "python"
  }
 },
 "nbformat": 4,
 "nbformat_minor": 5
}
